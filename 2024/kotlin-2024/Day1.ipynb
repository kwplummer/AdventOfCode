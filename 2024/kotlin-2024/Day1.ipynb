{
 "cells": [
  {
   "cell_type": "code",
   "metadata": {
    "collapsed": true,
    "ExecuteTime": {
     "end_time": "2024-12-01T23:33:00.015765384Z",
     "start_time": "2024-12-01T23:32:59.974055344Z"
    }
   },
   "source": [
    "import java.io.File\n",
    "import zone.frog.advent.twentyfour.toClipboard"
   ],
   "outputs": [],
   "execution_count": 1
  },
  {
   "metadata": {
    "ExecuteTime": {
     "end_time": "2024-12-01T23:33:02.377408671Z",
     "start_time": "2024-12-01T23:33:01.587722724Z"
    }
   },
   "cell_type": "code",
   "source": [
    "fun scenarioOne(textFile: String): Int {\n",
    "    val left = ArrayList<Int>()\n",
    "    val right = ArrayList<Int>()\n",
    "    File(textFile).readLines()\n",
    "        .forEach {\n",
    "            with(it.split(\" \")) {\n",
    "                left.add(first().toInt())\n",
    "                right.add(last().toInt())\n",
    "            }\n",
    "        }\n",
    "    left.sort()\n",
    "    right.sort()\n",
    "    return left.zip(right)\n",
    "        .map { abs(it.first - it.second) }\n",
    "        .sum()\n",
    "}"
   ],
   "outputs": [],
   "execution_count": 2
  },
  {
   "metadata": {
    "ExecuteTime": {
     "end_time": "2024-12-01T23:33:02.484956769Z",
     "start_time": "2024-12-01T23:33:02.393735323Z"
    }
   },
   "cell_type": "code",
   "source": "scenarioOne(\"../input/day1-test.txt\")",
   "outputs": [
    {
     "data": {
      "text/plain": [
       "11"
      ]
     },
     "execution_count": 3,
     "metadata": {},
     "output_type": "execute_result"
    }
   ],
   "execution_count": 3
  },
  {
   "metadata": {
    "ExecuteTime": {
     "end_time": "2024-12-01T23:33:18.522572277Z",
     "start_time": "2024-12-01T23:33:14.104424748Z"
    }
   },
   "cell_type": "code",
   "source": "scenarioOne(\"../input/day1.txt\").toClipboard()",
   "outputs": [],
   "execution_count": 5
  },
  {
   "metadata": {
    "ExecuteTime": {
     "end_time": "2024-12-01T23:29:01.181888840Z",
     "start_time": "2024-12-01T23:29:00.910650104Z"
    }
   },
   "cell_type": "code",
   "source": [
    "fun scenarioTwo(textFile: String): Int {\n",
    "    val left = ArrayList<Int>()\n",
    "    val right = ArrayList<Int>()\n",
    "    File(textFile).readLines()\n",
    "        .forEach {\n",
    "            with(it.split(\" \")) {\n",
    "                left.add(first().toInt())\n",
    "                right.add(last().toInt())\n",
    "            }\n",
    "        }\n",
    "    return left.map { it * right.count { b -> it == b } }\n",
    "        .sum()\n",
    "}"
   ],
   "outputs": [],
   "execution_count": 5
  },
  {
   "metadata": {
    "ExecuteTime": {
     "end_time": "2024-12-01T23:29:01.240689437Z",
     "start_time": "2024-12-01T23:29:01.192692628Z"
    }
   },
   "cell_type": "code",
   "source": "scenarioTwo(\"../input/day1-test.txt\")",
   "outputs": [
    {
     "data": {
      "text/plain": [
       "31"
      ]
     },
     "execution_count": 6,
     "metadata": {},
     "output_type": "execute_result"
    }
   ],
   "execution_count": 6
  },
  {
   "metadata": {
    "ExecuteTime": {
     "end_time": "2024-12-01T23:29:13.441216846Z",
     "start_time": "2024-12-01T23:29:13.382120090Z"
    }
   },
   "cell_type": "code",
   "source": "scenarioTwo(\"../input/day1.txt\").toClipboard()",
   "outputs": [],
   "execution_count": 7
  }
 ],
 "metadata": {
  "kernelspec": {
   "display_name": "Kotlin",
   "language": "kotlin",
   "name": "kotlin"
  },
  "language_info": {
   "name": "kotlin",
   "version": "1.9.23",
   "mimetype": "text/x-kotlin",
   "file_extension": ".kt",
   "pygments_lexer": "kotlin",
   "codemirror_mode": "text/x-kotlin",
   "nbconvert_exporter": ""
  },
  "ktnbPluginMetadata": {
   "projectDependencies": true
  }
 },
 "nbformat": 4,
 "nbformat_minor": 0
}
