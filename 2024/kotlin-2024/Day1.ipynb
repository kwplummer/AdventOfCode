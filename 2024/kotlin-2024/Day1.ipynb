{
 "cells": [
  {
   "cell_type": "code",
   "metadata": {
    "collapsed": true,
    "ExecuteTime": {
     "end_time": "2024-12-01T23:33:00.015765384Z",
     "start_time": "2024-12-01T23:32:59.974055344Z"
    }
   },
   "source": [
    "import java.io.File\n",
    "import zone.frog.advent.twentyfour.toClipboard"
   ],
   "outputs": [],
   "execution_count": 1
  },
  {
   "metadata": {
    "ExecuteTime": {
     "end_time": "2024-12-02T00:04:01.806431157Z",
     "start_time": "2024-12-02T00:04:01.602968035Z"
    }
   },
   "cell_type": "code",
   "source": [
    "fun scenarioOne(textFile: String) = \n",
    "    File(textFile).readLines()\n",
    "        .map {\n",
    "            with(it.split(\" \")) {\n",
    "                first().toInt() to last().toInt()\n",
    "            }\n",
    "        }\n",
    "        .unzip()\n",
    "        .let { (left, right) -> left.sorted().zip(right.sorted()) }\n",
    "        .map { abs(it.first - it.second) }\n",
    "        .sum()"
   ],
   "outputs": [],
   "execution_count": 8
  },
  {
   "metadata": {
    "ExecuteTime": {
     "end_time": "2024-12-02T00:04:03.417285851Z",
     "start_time": "2024-12-02T00:04:03.383559548Z"
    }
   },
   "cell_type": "code",
   "source": "scenarioOne(\"../input/day1-test.txt\")",
   "outputs": [
    {
     "data": {
      "text/plain": [
       "11"
      ]
     },
     "execution_count": 9,
     "metadata": {},
     "output_type": "execute_result"
    }
   ],
   "execution_count": 9
  },
  {
   "metadata": {
    "ExecuteTime": {
     "end_time": "2024-12-01T23:33:18.522572277Z",
     "start_time": "2024-12-01T23:33:14.104424748Z"
    }
   },
   "cell_type": "code",
   "source": "scenarioOne(\"../input/day1.txt\").toClipboard()",
   "outputs": [],
   "execution_count": 5
  },
  {
   "metadata": {
    "ExecuteTime": {
     "end_time": "2024-12-02T00:04:32.493007664Z",
     "start_time": "2024-12-02T00:04:32.328964136Z"
    }
   },
   "cell_type": "code",
   "source": [
    "fun scenarioTwo(textFile: String) =\n",
    "    File(textFile).readLines()\n",
    "        .map {\n",
    "            with(it.split(\" \")) {\n",
    "                first().toInt() to last().toInt()\n",
    "            }\n",
    "        }\n",
    "        .unzip()\n",
    "        .let { (left, right) -> left.map { it * right.count { b -> it == b } } }\n",
    "        .sum()"
   ],
   "outputs": [],
   "execution_count": 10
  },
  {
   "metadata": {
    "ExecuteTime": {
     "end_time": "2024-12-02T00:04:34.398773322Z",
     "start_time": "2024-12-02T00:04:34.369218075Z"
    }
   },
   "cell_type": "code",
   "source": "scenarioTwo(\"../input/day1-test.txt\")",
   "outputs": [
    {
     "data": {
      "text/plain": [
       "31"
      ]
     },
     "execution_count": 11,
     "metadata": {},
     "output_type": "execute_result"
    }
   ],
   "execution_count": 11
  },
  {
   "metadata": {
    "ExecuteTime": {
     "end_time": "2024-12-01T23:29:13.441216846Z",
     "start_time": "2024-12-01T23:29:13.382120090Z"
    }
   },
   "cell_type": "code",
   "source": "scenarioTwo(\"../input/day1.txt\").toClipboard()",
   "outputs": [],
   "execution_count": 7
  }
 ],
 "metadata": {
  "kernelspec": {
   "display_name": "Kotlin",
   "language": "kotlin",
   "name": "kotlin"
  },
  "language_info": {
   "name": "kotlin",
   "version": "1.9.23",
   "mimetype": "text/x-kotlin",
   "file_extension": ".kt",
   "pygments_lexer": "kotlin",
   "codemirror_mode": "text/x-kotlin",
   "nbconvert_exporter": ""
  },
  "ktnbPluginMetadata": {
   "projectDependencies": true
  }
 },
 "nbformat": 4,
 "nbformat_minor": 0
}
