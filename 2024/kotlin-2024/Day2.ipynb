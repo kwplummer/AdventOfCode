{
 "cells": [
  {
   "cell_type": "code",
   "metadata": {
    "collapsed": true,
    "ExecuteTime": {
     "end_time": "2024-12-02T06:09:56.757152034Z",
     "start_time": "2024-12-02T06:09:56.696269909Z"
    }
   },
   "source": [
    "import java.io.File\n",
    "import zone.frog.advent.twentyfour.toClipboard"
   ],
   "outputs": [],
   "execution_count": 1
  },
  {
   "metadata": {
    "ExecuteTime": {
     "end_time": "2024-12-02T06:48:51.717805491Z",
     "start_time": "2024-12-02T06:48:51.602941284Z"
    }
   },
   "cell_type": "code",
   "source": [
    "fun isSafe(numbers: List<Int>): Boolean {\n",
    "    var direction: Double? = null;\n",
    "    numbers.windowed(2, 1)\n",
    "        .forEach { (l, r) ->\n",
    "            val diff = l - r\n",
    "            with(sign(diff.toDouble())) {\n",
    "                if (direction == null) direction = this\n",
    "                else if (direction != this) return false\n",
    "            }\n",
    "            if (abs(diff) > 3) return false\n",
    "        }\n",
    "    return true\n",
    "}\n",
    "\n",
    "fun scenarioOne(file: String) =\n",
    "    File(file)\n",
    "        .readLines()\n",
    "        .map { it.split(\" \").map(String::toInt) }\n",
    "        .count(::isSafe)"
   ],
   "outputs": [],
   "execution_count": 99
  },
  {
   "metadata": {
    "ExecuteTime": {
     "end_time": "2024-12-02T06:48:52.271369825Z",
     "start_time": "2024-12-02T06:48:52.242174305Z"
    }
   },
   "cell_type": "code",
   "source": "scenarioOne(\"../input/day2-test.txt\")",
   "outputs": [
    {
     "data": {
      "text/plain": [
       "2"
      ]
     },
     "execution_count": 100,
     "metadata": {},
     "output_type": "execute_result"
    }
   ],
   "execution_count": 100
  },
  {
   "metadata": {
    "ExecuteTime": {
     "end_time": "2024-12-02T06:48:53.893226196Z",
     "start_time": "2024-12-02T06:48:53.194904437Z"
    }
   },
   "cell_type": "code",
   "source": "scenarioOne(\"../input/day2.txt\").toClipboard()",
   "outputs": [],
   "execution_count": 101
  },
  {
   "metadata": {
    "ExecuteTime": {
     "end_time": "2024-12-02T06:48:54.418106562Z",
     "start_time": "2024-12-02T06:48:54.324108232Z"
    }
   },
   "cell_type": "code",
   "source": [
    "fun scenarioTwo(textFile: String) =\n",
    "    File(textFile)\n",
    "        .readLines()\n",
    "        .map { it.split(\" \").map(String::toInt) }\n",
    "        .filterNot { numbers -> \n",
    "            sequence {\n",
    "                numbers.indices.forEach {\n",
    "                    yield((numbers.take(it) + numbers.drop(it + 1)))\n",
    "                }\n",
    "            }.none { isSafe(it) }\n",
    "        }\n",
    "        .size"
   ],
   "outputs": [],
   "execution_count": 102
  },
  {
   "metadata": {
    "ExecuteTime": {
     "end_time": "2024-12-02T06:48:54.996717119Z",
     "start_time": "2024-12-02T06:48:54.957173594Z"
    }
   },
   "cell_type": "code",
   "source": "scenarioTwo(\"../input/day2-test.txt\")",
   "outputs": [
    {
     "data": {
      "text/plain": [
       "4"
      ]
     },
     "execution_count": 103,
     "metadata": {},
     "output_type": "execute_result"
    }
   ],
   "execution_count": 103
  },
  {
   "metadata": {
    "ExecuteTime": {
     "end_time": "2024-12-02T06:48:56.595669288Z",
     "start_time": "2024-12-02T06:48:55.890880895Z"
    }
   },
   "cell_type": "code",
   "source": "scenarioTwo(\"../input/day2.txt\").toClipboard()",
   "outputs": [],
   "execution_count": 104
  }
 ],
 "metadata": {
  "kernelspec": {
   "display_name": "Kotlin",
   "language": "kotlin",
   "name": "kotlin"
  },
  "language_info": {
   "name": "kotlin",
   "version": "1.9.23",
   "mimetype": "text/x-kotlin",
   "file_extension": ".kt",
   "pygments_lexer": "kotlin",
   "codemirror_mode": "text/x-kotlin",
   "nbconvert_exporter": ""
  },
  "ktnbPluginMetadata": {
   "projectDependencies": true
  }
 },
 "nbformat": 4,
 "nbformat_minor": 0
}
